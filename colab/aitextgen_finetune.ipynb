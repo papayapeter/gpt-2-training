{
  "nbformat": 4,
  "nbformat_minor": 0,
  "metadata": {
    "colab": {
      "name": "aitextgen-finetune.ipynb",
      "provenance": [],
      "collapsed_sections": [],
      "authorship_tag": "ABX9TyO1llVctp/JAcovg/YOOqn+",
      "include_colab_link": true
    },
    "kernelspec": {
      "name": "python3",
      "display_name": "Python 3"
    },
    "language_info": {
      "name": "python"
    },
    "accelerator": "GPU",
    "widgets": {
      "application/vnd.jupyter.widget-state+json": {
        "2a580f6ce411432c8cb1d9058c691572": {
          "model_module": "@jupyter-widgets/controls",
          "model_name": "HBoxModel",
          "model_module_version": "1.5.0",
          "state": {
            "_view_name": "HBoxView",
            "_dom_classes": [],
            "_model_name": "HBoxModel",
            "_view_module": "@jupyter-widgets/controls",
            "_model_module_version": "1.5.0",
            "_view_count": null,
            "_view_module_version": "1.5.0",
            "box_style": "",
            "layout": "IPY_MODEL_c9aa45efff184c9693664df9fd0fe9a2",
            "_model_module": "@jupyter-widgets/controls",
            "children": [
              "IPY_MODEL_2985a50b675c4e30a78339f7e155985b",
              "IPY_MODEL_9ee91568b03046edb9440ebe571a25e1",
              "IPY_MODEL_41ec83765ea0422093ad9c4a2c40ea50"
            ]
          }
        },
        "c9aa45efff184c9693664df9fd0fe9a2": {
          "model_module": "@jupyter-widgets/base",
          "model_name": "LayoutModel",
          "model_module_version": "1.2.0",
          "state": {
            "_view_name": "LayoutView",
            "grid_template_rows": null,
            "right": null,
            "justify_content": null,
            "_view_module": "@jupyter-widgets/base",
            "overflow": null,
            "_model_module_version": "1.2.0",
            "_view_count": null,
            "flex_flow": null,
            "width": null,
            "min_width": null,
            "border": null,
            "align_items": null,
            "bottom": null,
            "_model_module": "@jupyter-widgets/base",
            "top": null,
            "grid_column": null,
            "overflow_y": null,
            "overflow_x": null,
            "grid_auto_flow": null,
            "grid_area": null,
            "grid_template_columns": null,
            "flex": null,
            "_model_name": "LayoutModel",
            "justify_items": null,
            "grid_row": null,
            "max_height": null,
            "align_content": null,
            "visibility": null,
            "align_self": null,
            "height": null,
            "min_height": null,
            "padding": null,
            "grid_auto_rows": null,
            "grid_gap": null,
            "max_width": null,
            "order": null,
            "_view_module_version": "1.2.0",
            "grid_template_areas": null,
            "object_position": null,
            "object_fit": null,
            "grid_auto_columns": null,
            "margin": null,
            "display": null,
            "left": null
          }
        },
        "2985a50b675c4e30a78339f7e155985b": {
          "model_module": "@jupyter-widgets/controls",
          "model_name": "HTMLModel",
          "model_module_version": "1.5.0",
          "state": {
            "_view_name": "HTMLView",
            "style": "IPY_MODEL_77953f4ca7ee4725889d17d596828d56",
            "_dom_classes": [],
            "description": "",
            "_model_name": "HTMLModel",
            "placeholder": "​",
            "_view_module": "@jupyter-widgets/controls",
            "_model_module_version": "1.5.0",
            "value": "Downloading: 100%",
            "_view_count": null,
            "_view_module_version": "1.5.0",
            "description_tooltip": null,
            "_model_module": "@jupyter-widgets/controls",
            "layout": "IPY_MODEL_81c91b34f7b748ef9c1b397333635400"
          }
        },
        "9ee91568b03046edb9440ebe571a25e1": {
          "model_module": "@jupyter-widgets/controls",
          "model_name": "FloatProgressModel",
          "model_module_version": "1.5.0",
          "state": {
            "_view_name": "ProgressView",
            "style": "IPY_MODEL_aa55446410794fa8ae984c5a953189c2",
            "_dom_classes": [],
            "description": "",
            "_model_name": "FloatProgressModel",
            "bar_style": "success",
            "max": 762,
            "_view_module": "@jupyter-widgets/controls",
            "_model_module_version": "1.5.0",
            "value": 762,
            "_view_count": null,
            "_view_module_version": "1.5.0",
            "orientation": "horizontal",
            "min": 0,
            "description_tooltip": null,
            "_model_module": "@jupyter-widgets/controls",
            "layout": "IPY_MODEL_a6b512cb059d4e12a74541735f02055d"
          }
        },
        "41ec83765ea0422093ad9c4a2c40ea50": {
          "model_module": "@jupyter-widgets/controls",
          "model_name": "HTMLModel",
          "model_module_version": "1.5.0",
          "state": {
            "_view_name": "HTMLView",
            "style": "IPY_MODEL_8c5334f8a7e54edf9eb8a96c1e315e02",
            "_dom_classes": [],
            "description": "",
            "_model_name": "HTMLModel",
            "placeholder": "​",
            "_view_module": "@jupyter-widgets/controls",
            "_model_module_version": "1.5.0",
            "value": " 762/762 [00:00&lt;00:00, 19.5kB/s]",
            "_view_count": null,
            "_view_module_version": "1.5.0",
            "description_tooltip": null,
            "_model_module": "@jupyter-widgets/controls",
            "layout": "IPY_MODEL_8dbd8873e3a24141b5d1aa3e2cfcfd40"
          }
        },
        "77953f4ca7ee4725889d17d596828d56": {
          "model_module": "@jupyter-widgets/controls",
          "model_name": "DescriptionStyleModel",
          "model_module_version": "1.5.0",
          "state": {
            "_view_name": "StyleView",
            "_model_name": "DescriptionStyleModel",
            "description_width": "",
            "_view_module": "@jupyter-widgets/base",
            "_model_module_version": "1.5.0",
            "_view_count": null,
            "_view_module_version": "1.2.0",
            "_model_module": "@jupyter-widgets/controls"
          }
        },
        "81c91b34f7b748ef9c1b397333635400": {
          "model_module": "@jupyter-widgets/base",
          "model_name": "LayoutModel",
          "model_module_version": "1.2.0",
          "state": {
            "_view_name": "LayoutView",
            "grid_template_rows": null,
            "right": null,
            "justify_content": null,
            "_view_module": "@jupyter-widgets/base",
            "overflow": null,
            "_model_module_version": "1.2.0",
            "_view_count": null,
            "flex_flow": null,
            "width": null,
            "min_width": null,
            "border": null,
            "align_items": null,
            "bottom": null,
            "_model_module": "@jupyter-widgets/base",
            "top": null,
            "grid_column": null,
            "overflow_y": null,
            "overflow_x": null,
            "grid_auto_flow": null,
            "grid_area": null,
            "grid_template_columns": null,
            "flex": null,
            "_model_name": "LayoutModel",
            "justify_items": null,
            "grid_row": null,
            "max_height": null,
            "align_content": null,
            "visibility": null,
            "align_self": null,
            "height": null,
            "min_height": null,
            "padding": null,
            "grid_auto_rows": null,
            "grid_gap": null,
            "max_width": null,
            "order": null,
            "_view_module_version": "1.2.0",
            "grid_template_areas": null,
            "object_position": null,
            "object_fit": null,
            "grid_auto_columns": null,
            "margin": null,
            "display": null,
            "left": null
          }
        },
        "aa55446410794fa8ae984c5a953189c2": {
          "model_module": "@jupyter-widgets/controls",
          "model_name": "ProgressStyleModel",
          "model_module_version": "1.5.0",
          "state": {
            "_view_name": "StyleView",
            "_model_name": "ProgressStyleModel",
            "description_width": "",
            "_view_module": "@jupyter-widgets/base",
            "_model_module_version": "1.5.0",
            "_view_count": null,
            "_view_module_version": "1.2.0",
            "bar_color": null,
            "_model_module": "@jupyter-widgets/controls"
          }
        },
        "a6b512cb059d4e12a74541735f02055d": {
          "model_module": "@jupyter-widgets/base",
          "model_name": "LayoutModel",
          "model_module_version": "1.2.0",
          "state": {
            "_view_name": "LayoutView",
            "grid_template_rows": null,
            "right": null,
            "justify_content": null,
            "_view_module": "@jupyter-widgets/base",
            "overflow": null,
            "_model_module_version": "1.2.0",
            "_view_count": null,
            "flex_flow": null,
            "width": null,
            "min_width": null,
            "border": null,
            "align_items": null,
            "bottom": null,
            "_model_module": "@jupyter-widgets/base",
            "top": null,
            "grid_column": null,
            "overflow_y": null,
            "overflow_x": null,
            "grid_auto_flow": null,
            "grid_area": null,
            "grid_template_columns": null,
            "flex": null,
            "_model_name": "LayoutModel",
            "justify_items": null,
            "grid_row": null,
            "max_height": null,
            "align_content": null,
            "visibility": null,
            "align_self": null,
            "height": null,
            "min_height": null,
            "padding": null,
            "grid_auto_rows": null,
            "grid_gap": null,
            "max_width": null,
            "order": null,
            "_view_module_version": "1.2.0",
            "grid_template_areas": null,
            "object_position": null,
            "object_fit": null,
            "grid_auto_columns": null,
            "margin": null,
            "display": null,
            "left": null
          }
        },
        "8c5334f8a7e54edf9eb8a96c1e315e02": {
          "model_module": "@jupyter-widgets/controls",
          "model_name": "DescriptionStyleModel",
          "model_module_version": "1.5.0",
          "state": {
            "_view_name": "StyleView",
            "_model_name": "DescriptionStyleModel",
            "description_width": "",
            "_view_module": "@jupyter-widgets/base",
            "_model_module_version": "1.5.0",
            "_view_count": null,
            "_view_module_version": "1.2.0",
            "_model_module": "@jupyter-widgets/controls"
          }
        },
        "8dbd8873e3a24141b5d1aa3e2cfcfd40": {
          "model_module": "@jupyter-widgets/base",
          "model_name": "LayoutModel",
          "model_module_version": "1.2.0",
          "state": {
            "_view_name": "LayoutView",
            "grid_template_rows": null,
            "right": null,
            "justify_content": null,
            "_view_module": "@jupyter-widgets/base",
            "overflow": null,
            "_model_module_version": "1.2.0",
            "_view_count": null,
            "flex_flow": null,
            "width": null,
            "min_width": null,
            "border": null,
            "align_items": null,
            "bottom": null,
            "_model_module": "@jupyter-widgets/base",
            "top": null,
            "grid_column": null,
            "overflow_y": null,
            "overflow_x": null,
            "grid_auto_flow": null,
            "grid_area": null,
            "grid_template_columns": null,
            "flex": null,
            "_model_name": "LayoutModel",
            "justify_items": null,
            "grid_row": null,
            "max_height": null,
            "align_content": null,
            "visibility": null,
            "align_self": null,
            "height": null,
            "min_height": null,
            "padding": null,
            "grid_auto_rows": null,
            "grid_gap": null,
            "max_width": null,
            "order": null,
            "_view_module_version": "1.2.0",
            "grid_template_areas": null,
            "object_position": null,
            "object_fit": null,
            "grid_auto_columns": null,
            "margin": null,
            "display": null,
            "left": null
          }
        },
        "adfaf048f7ed4693b5e7c9bf90e6abe6": {
          "model_module": "@jupyter-widgets/controls",
          "model_name": "HBoxModel",
          "model_module_version": "1.5.0",
          "state": {
            "_view_name": "HBoxView",
            "_dom_classes": [],
            "_model_name": "HBoxModel",
            "_view_module": "@jupyter-widgets/controls",
            "_model_module_version": "1.5.0",
            "_view_count": null,
            "_view_module_version": "1.5.0",
            "box_style": "",
            "layout": "IPY_MODEL_176d806421c14cc0ba9160043c07fab8",
            "_model_module": "@jupyter-widgets/controls",
            "children": [
              "IPY_MODEL_b2e6da04a79f407bbf29a87f1c14d2f7",
              "IPY_MODEL_c0f00a869a6346eab0530b0dc358f3b3",
              "IPY_MODEL_c6b440fa03c240118817a3a819861d8f"
            ]
          }
        },
        "176d806421c14cc0ba9160043c07fab8": {
          "model_module": "@jupyter-widgets/base",
          "model_name": "LayoutModel",
          "model_module_version": "1.2.0",
          "state": {
            "_view_name": "LayoutView",
            "grid_template_rows": null,
            "right": null,
            "justify_content": null,
            "_view_module": "@jupyter-widgets/base",
            "overflow": null,
            "_model_module_version": "1.2.0",
            "_view_count": null,
            "flex_flow": null,
            "width": null,
            "min_width": null,
            "border": null,
            "align_items": null,
            "bottom": null,
            "_model_module": "@jupyter-widgets/base",
            "top": null,
            "grid_column": null,
            "overflow_y": null,
            "overflow_x": null,
            "grid_auto_flow": null,
            "grid_area": null,
            "grid_template_columns": null,
            "flex": null,
            "_model_name": "LayoutModel",
            "justify_items": null,
            "grid_row": null,
            "max_height": null,
            "align_content": null,
            "visibility": null,
            "align_self": null,
            "height": null,
            "min_height": null,
            "padding": null,
            "grid_auto_rows": null,
            "grid_gap": null,
            "max_width": null,
            "order": null,
            "_view_module_version": "1.2.0",
            "grid_template_areas": null,
            "object_position": null,
            "object_fit": null,
            "grid_auto_columns": null,
            "margin": null,
            "display": null,
            "left": null
          }
        },
        "b2e6da04a79f407bbf29a87f1c14d2f7": {
          "model_module": "@jupyter-widgets/controls",
          "model_name": "HTMLModel",
          "model_module_version": "1.5.0",
          "state": {
            "_view_name": "HTMLView",
            "style": "IPY_MODEL_8c6a7273520f48998ddfd0d8d2638b8a",
            "_dom_classes": [],
            "description": "",
            "_model_name": "HTMLModel",
            "placeholder": "​",
            "_view_module": "@jupyter-widgets/controls",
            "_model_module_version": "1.5.0",
            "value": "Downloading: 100%",
            "_view_count": null,
            "_view_module_version": "1.5.0",
            "description_tooltip": null,
            "_model_module": "@jupyter-widgets/controls",
            "layout": "IPY_MODEL_9c23d388497a48e3b292b2207844ac34"
          }
        },
        "c0f00a869a6346eab0530b0dc358f3b3": {
          "model_module": "@jupyter-widgets/controls",
          "model_name": "FloatProgressModel",
          "model_module_version": "1.5.0",
          "state": {
            "_view_name": "ProgressView",
            "style": "IPY_MODEL_8b781c00eecc469a9f392775ab1b05bc",
            "_dom_classes": [],
            "description": "",
            "_model_name": "FloatProgressModel",
            "bar_style": "success",
            "max": 352833716,
            "_view_module": "@jupyter-widgets/controls",
            "_model_module_version": "1.5.0",
            "value": 352833716,
            "_view_count": null,
            "_view_module_version": "1.5.0",
            "orientation": "horizontal",
            "min": 0,
            "description_tooltip": null,
            "_model_module": "@jupyter-widgets/controls",
            "layout": "IPY_MODEL_64686a20ba174a3face352c2b2c47b17"
          }
        },
        "c6b440fa03c240118817a3a819861d8f": {
          "model_module": "@jupyter-widgets/controls",
          "model_name": "HTMLModel",
          "model_module_version": "1.5.0",
          "state": {
            "_view_name": "HTMLView",
            "style": "IPY_MODEL_5645056551fd4ac19619630256abcec7",
            "_dom_classes": [],
            "description": "",
            "_model_name": "HTMLModel",
            "placeholder": "​",
            "_view_module": "@jupyter-widgets/controls",
            "_model_module_version": "1.5.0",
            "value": " 336M/336M [00:06&lt;00:00, 53.6MB/s]",
            "_view_count": null,
            "_view_module_version": "1.5.0",
            "description_tooltip": null,
            "_model_module": "@jupyter-widgets/controls",
            "layout": "IPY_MODEL_a7baaa0a7b374181a2ebdaf4144f699d"
          }
        },
        "8c6a7273520f48998ddfd0d8d2638b8a": {
          "model_module": "@jupyter-widgets/controls",
          "model_name": "DescriptionStyleModel",
          "model_module_version": "1.5.0",
          "state": {
            "_view_name": "StyleView",
            "_model_name": "DescriptionStyleModel",
            "description_width": "",
            "_view_module": "@jupyter-widgets/base",
            "_model_module_version": "1.5.0",
            "_view_count": null,
            "_view_module_version": "1.2.0",
            "_model_module": "@jupyter-widgets/controls"
          }
        },
        "9c23d388497a48e3b292b2207844ac34": {
          "model_module": "@jupyter-widgets/base",
          "model_name": "LayoutModel",
          "model_module_version": "1.2.0",
          "state": {
            "_view_name": "LayoutView",
            "grid_template_rows": null,
            "right": null,
            "justify_content": null,
            "_view_module": "@jupyter-widgets/base",
            "overflow": null,
            "_model_module_version": "1.2.0",
            "_view_count": null,
            "flex_flow": null,
            "width": null,
            "min_width": null,
            "border": null,
            "align_items": null,
            "bottom": null,
            "_model_module": "@jupyter-widgets/base",
            "top": null,
            "grid_column": null,
            "overflow_y": null,
            "overflow_x": null,
            "grid_auto_flow": null,
            "grid_area": null,
            "grid_template_columns": null,
            "flex": null,
            "_model_name": "LayoutModel",
            "justify_items": null,
            "grid_row": null,
            "max_height": null,
            "align_content": null,
            "visibility": null,
            "align_self": null,
            "height": null,
            "min_height": null,
            "padding": null,
            "grid_auto_rows": null,
            "grid_gap": null,
            "max_width": null,
            "order": null,
            "_view_module_version": "1.2.0",
            "grid_template_areas": null,
            "object_position": null,
            "object_fit": null,
            "grid_auto_columns": null,
            "margin": null,
            "display": null,
            "left": null
          }
        },
        "8b781c00eecc469a9f392775ab1b05bc": {
          "model_module": "@jupyter-widgets/controls",
          "model_name": "ProgressStyleModel",
          "model_module_version": "1.5.0",
          "state": {
            "_view_name": "StyleView",
            "_model_name": "ProgressStyleModel",
            "description_width": "",
            "_view_module": "@jupyter-widgets/base",
            "_model_module_version": "1.5.0",
            "_view_count": null,
            "_view_module_version": "1.2.0",
            "bar_color": null,
            "_model_module": "@jupyter-widgets/controls"
          }
        },
        "64686a20ba174a3face352c2b2c47b17": {
          "model_module": "@jupyter-widgets/base",
          "model_name": "LayoutModel",
          "model_module_version": "1.2.0",
          "state": {
            "_view_name": "LayoutView",
            "grid_template_rows": null,
            "right": null,
            "justify_content": null,
            "_view_module": "@jupyter-widgets/base",
            "overflow": null,
            "_model_module_version": "1.2.0",
            "_view_count": null,
            "flex_flow": null,
            "width": null,
            "min_width": null,
            "border": null,
            "align_items": null,
            "bottom": null,
            "_model_module": "@jupyter-widgets/base",
            "top": null,
            "grid_column": null,
            "overflow_y": null,
            "overflow_x": null,
            "grid_auto_flow": null,
            "grid_area": null,
            "grid_template_columns": null,
            "flex": null,
            "_model_name": "LayoutModel",
            "justify_items": null,
            "grid_row": null,
            "max_height": null,
            "align_content": null,
            "visibility": null,
            "align_self": null,
            "height": null,
            "min_height": null,
            "padding": null,
            "grid_auto_rows": null,
            "grid_gap": null,
            "max_width": null,
            "order": null,
            "_view_module_version": "1.2.0",
            "grid_template_areas": null,
            "object_position": null,
            "object_fit": null,
            "grid_auto_columns": null,
            "margin": null,
            "display": null,
            "left": null
          }
        },
        "5645056551fd4ac19619630256abcec7": {
          "model_module": "@jupyter-widgets/controls",
          "model_name": "DescriptionStyleModel",
          "model_module_version": "1.5.0",
          "state": {
            "_view_name": "StyleView",
            "_model_name": "DescriptionStyleModel",
            "description_width": "",
            "_view_module": "@jupyter-widgets/base",
            "_model_module_version": "1.5.0",
            "_view_count": null,
            "_view_module_version": "1.2.0",
            "_model_module": "@jupyter-widgets/controls"
          }
        },
        "a7baaa0a7b374181a2ebdaf4144f699d": {
          "model_module": "@jupyter-widgets/base",
          "model_name": "LayoutModel",
          "model_module_version": "1.2.0",
          "state": {
            "_view_name": "LayoutView",
            "grid_template_rows": null,
            "right": null,
            "justify_content": null,
            "_view_module": "@jupyter-widgets/base",
            "overflow": null,
            "_model_module_version": "1.2.0",
            "_view_count": null,
            "flex_flow": null,
            "width": null,
            "min_width": null,
            "border": null,
            "align_items": null,
            "bottom": null,
            "_model_module": "@jupyter-widgets/base",
            "top": null,
            "grid_column": null,
            "overflow_y": null,
            "overflow_x": null,
            "grid_auto_flow": null,
            "grid_area": null,
            "grid_template_columns": null,
            "flex": null,
            "_model_name": "LayoutModel",
            "justify_items": null,
            "grid_row": null,
            "max_height": null,
            "align_content": null,
            "visibility": null,
            "align_self": null,
            "height": null,
            "min_height": null,
            "padding": null,
            "grid_auto_rows": null,
            "grid_gap": null,
            "max_width": null,
            "order": null,
            "_view_module_version": "1.2.0",
            "grid_template_areas": null,
            "object_position": null,
            "object_fit": null,
            "grid_auto_columns": null,
            "margin": null,
            "display": null,
            "left": null
          }
        },
        "28d6011086e64e86bd2bddf22713fc8b": {
          "model_module": "@jupyter-widgets/controls",
          "model_name": "HBoxModel",
          "model_module_version": "1.5.0",
          "state": {
            "_view_name": "HBoxView",
            "_dom_classes": [],
            "_model_name": "HBoxModel",
            "_view_module": "@jupyter-widgets/controls",
            "_model_module_version": "1.5.0",
            "_view_count": null,
            "_view_module_version": "1.5.0",
            "box_style": "",
            "layout": "IPY_MODEL_90520343cdb9479798cdb4b34c6a9a00",
            "_model_module": "@jupyter-widgets/controls",
            "children": [
              "IPY_MODEL_894c0bcc440241f2999e7c1f238c97f2",
              "IPY_MODEL_f44421e2b0c14bf0965270ee638bec84",
              "IPY_MODEL_2c4fbe4095f944cc85ca86d1c41c95b7"
            ]
          }
        },
        "90520343cdb9479798cdb4b34c6a9a00": {
          "model_module": "@jupyter-widgets/base",
          "model_name": "LayoutModel",
          "model_module_version": "1.2.0",
          "state": {
            "_view_name": "LayoutView",
            "grid_template_rows": null,
            "right": null,
            "justify_content": null,
            "_view_module": "@jupyter-widgets/base",
            "overflow": null,
            "_model_module_version": "1.2.0",
            "_view_count": null,
            "flex_flow": "row wrap",
            "width": "100%",
            "min_width": null,
            "border": null,
            "align_items": null,
            "bottom": null,
            "_model_module": "@jupyter-widgets/base",
            "top": null,
            "grid_column": null,
            "overflow_y": null,
            "overflow_x": null,
            "grid_auto_flow": null,
            "grid_area": null,
            "grid_template_columns": null,
            "flex": null,
            "_model_name": "LayoutModel",
            "justify_items": null,
            "grid_row": null,
            "max_height": null,
            "align_content": null,
            "visibility": null,
            "align_self": null,
            "height": null,
            "min_height": null,
            "padding": null,
            "grid_auto_rows": null,
            "grid_gap": null,
            "max_width": null,
            "order": null,
            "_view_module_version": "1.2.0",
            "grid_template_areas": null,
            "object_position": null,
            "object_fit": null,
            "grid_auto_columns": null,
            "margin": null,
            "display": "inline-flex",
            "left": null
          }
        },
        "894c0bcc440241f2999e7c1f238c97f2": {
          "model_module": "@jupyter-widgets/controls",
          "model_name": "HTMLModel",
          "model_module_version": "1.5.0",
          "state": {
            "_view_name": "HTMLView",
            "style": "IPY_MODEL_2bacc88752794fe099654df6c629c679",
            "_dom_classes": [],
            "description": "",
            "_model_name": "HTMLModel",
            "placeholder": "​",
            "_view_module": "@jupyter-widgets/controls",
            "_model_module_version": "1.5.0",
            "value": "100%",
            "_view_count": null,
            "_view_module_version": "1.5.0",
            "description_tooltip": null,
            "_model_module": "@jupyter-widgets/controls",
            "layout": "IPY_MODEL_8b14486cc5984bb8946a463bd7a22582"
          }
        },
        "f44421e2b0c14bf0965270ee638bec84": {
          "model_module": "@jupyter-widgets/controls",
          "model_name": "FloatProgressModel",
          "model_module_version": "1.5.0",
          "state": {
            "_view_name": "ProgressView",
            "style": "IPY_MODEL_29170b05d80b477cabf97e3ae1acc551",
            "_dom_classes": [],
            "description": "",
            "_model_name": "FloatProgressModel",
            "bar_style": "success",
            "max": 651,
            "_view_module": "@jupyter-widgets/controls",
            "_model_module_version": "1.5.0",
            "value": 651,
            "_view_count": null,
            "_view_module_version": "1.5.0",
            "orientation": "horizontal",
            "min": 0,
            "description_tooltip": null,
            "_model_module": "@jupyter-widgets/controls",
            "layout": "IPY_MODEL_a161a2327e774976b477956c8b31947d"
          }
        },
        "2c4fbe4095f944cc85ca86d1c41c95b7": {
          "model_module": "@jupyter-widgets/controls",
          "model_name": "HTMLModel",
          "model_module_version": "1.5.0",
          "state": {
            "_view_name": "HTMLView",
            "style": "IPY_MODEL_e5a748046dc94a7e892ad75b8b07246d",
            "_dom_classes": [],
            "description": "",
            "_model_name": "HTMLModel",
            "placeholder": "​",
            "_view_module": "@jupyter-widgets/controls",
            "_model_module_version": "1.5.0",
            "value": " 651/651 [00:00&lt;00:00, 7233.40it/s]",
            "_view_count": null,
            "_view_module_version": "1.5.0",
            "description_tooltip": null,
            "_model_module": "@jupyter-widgets/controls",
            "layout": "IPY_MODEL_23bc308e5a104d0dbb4af0d1da7cfbda"
          }
        },
        "2bacc88752794fe099654df6c629c679": {
          "model_module": "@jupyter-widgets/controls",
          "model_name": "DescriptionStyleModel",
          "model_module_version": "1.5.0",
          "state": {
            "_view_name": "StyleView",
            "_model_name": "DescriptionStyleModel",
            "description_width": "",
            "_view_module": "@jupyter-widgets/base",
            "_model_module_version": "1.5.0",
            "_view_count": null,
            "_view_module_version": "1.2.0",
            "_model_module": "@jupyter-widgets/controls"
          }
        },
        "8b14486cc5984bb8946a463bd7a22582": {
          "model_module": "@jupyter-widgets/base",
          "model_name": "LayoutModel",
          "model_module_version": "1.2.0",
          "state": {
            "_view_name": "LayoutView",
            "grid_template_rows": null,
            "right": null,
            "justify_content": null,
            "_view_module": "@jupyter-widgets/base",
            "overflow": null,
            "_model_module_version": "1.2.0",
            "_view_count": null,
            "flex_flow": null,
            "width": null,
            "min_width": null,
            "border": null,
            "align_items": null,
            "bottom": null,
            "_model_module": "@jupyter-widgets/base",
            "top": null,
            "grid_column": null,
            "overflow_y": null,
            "overflow_x": null,
            "grid_auto_flow": null,
            "grid_area": null,
            "grid_template_columns": null,
            "flex": null,
            "_model_name": "LayoutModel",
            "justify_items": null,
            "grid_row": null,
            "max_height": null,
            "align_content": null,
            "visibility": null,
            "align_self": null,
            "height": null,
            "min_height": null,
            "padding": null,
            "grid_auto_rows": null,
            "grid_gap": null,
            "max_width": null,
            "order": null,
            "_view_module_version": "1.2.0",
            "grid_template_areas": null,
            "object_position": null,
            "object_fit": null,
            "grid_auto_columns": null,
            "margin": null,
            "display": null,
            "left": null
          }
        },
        "29170b05d80b477cabf97e3ae1acc551": {
          "model_module": "@jupyter-widgets/controls",
          "model_name": "ProgressStyleModel",
          "model_module_version": "1.5.0",
          "state": {
            "_view_name": "StyleView",
            "_model_name": "ProgressStyleModel",
            "description_width": "",
            "_view_module": "@jupyter-widgets/base",
            "_model_module_version": "1.5.0",
            "_view_count": null,
            "_view_module_version": "1.2.0",
            "bar_color": null,
            "_model_module": "@jupyter-widgets/controls"
          }
        },
        "a161a2327e774976b477956c8b31947d": {
          "model_module": "@jupyter-widgets/base",
          "model_name": "LayoutModel",
          "model_module_version": "1.2.0",
          "state": {
            "_view_name": "LayoutView",
            "grid_template_rows": null,
            "right": null,
            "justify_content": null,
            "_view_module": "@jupyter-widgets/base",
            "overflow": null,
            "_model_module_version": "1.2.0",
            "_view_count": null,
            "flex_flow": null,
            "width": null,
            "min_width": null,
            "border": null,
            "align_items": null,
            "bottom": null,
            "_model_module": "@jupyter-widgets/base",
            "top": null,
            "grid_column": null,
            "overflow_y": null,
            "overflow_x": null,
            "grid_auto_flow": null,
            "grid_area": null,
            "grid_template_columns": null,
            "flex": "2",
            "_model_name": "LayoutModel",
            "justify_items": null,
            "grid_row": null,
            "max_height": null,
            "align_content": null,
            "visibility": null,
            "align_self": null,
            "height": null,
            "min_height": null,
            "padding": null,
            "grid_auto_rows": null,
            "grid_gap": null,
            "max_width": null,
            "order": null,
            "_view_module_version": "1.2.0",
            "grid_template_areas": null,
            "object_position": null,
            "object_fit": null,
            "grid_auto_columns": null,
            "margin": null,
            "display": null,
            "left": null
          }
        },
        "e5a748046dc94a7e892ad75b8b07246d": {
          "model_module": "@jupyter-widgets/controls",
          "model_name": "DescriptionStyleModel",
          "model_module_version": "1.5.0",
          "state": {
            "_view_name": "StyleView",
            "_model_name": "DescriptionStyleModel",
            "description_width": "",
            "_view_module": "@jupyter-widgets/base",
            "_model_module_version": "1.5.0",
            "_view_count": null,
            "_view_module_version": "1.2.0",
            "_model_module": "@jupyter-widgets/controls"
          }
        },
        "23bc308e5a104d0dbb4af0d1da7cfbda": {
          "model_module": "@jupyter-widgets/base",
          "model_name": "LayoutModel",
          "model_module_version": "1.2.0",
          "state": {
            "_view_name": "LayoutView",
            "grid_template_rows": null,
            "right": null,
            "justify_content": null,
            "_view_module": "@jupyter-widgets/base",
            "overflow": null,
            "_model_module_version": "1.2.0",
            "_view_count": null,
            "flex_flow": null,
            "width": null,
            "min_width": null,
            "border": null,
            "align_items": null,
            "bottom": null,
            "_model_module": "@jupyter-widgets/base",
            "top": null,
            "grid_column": null,
            "overflow_y": null,
            "overflow_x": null,
            "grid_auto_flow": null,
            "grid_area": null,
            "grid_template_columns": null,
            "flex": null,
            "_model_name": "LayoutModel",
            "justify_items": null,
            "grid_row": null,
            "max_height": null,
            "align_content": null,
            "visibility": null,
            "align_self": null,
            "height": null,
            "min_height": null,
            "padding": null,
            "grid_auto_rows": null,
            "grid_gap": null,
            "max_width": null,
            "order": null,
            "_view_module_version": "1.2.0",
            "grid_template_areas": null,
            "object_position": null,
            "object_fit": null,
            "grid_auto_columns": null,
            "margin": null,
            "display": null,
            "left": null
          }
        },
        "a4b95705b0174cf28e50156d5503b90a": {
          "model_module": "@jupyter-widgets/controls",
          "model_name": "HBoxModel",
          "model_module_version": "1.5.0",
          "state": {
            "_view_name": "HBoxView",
            "_dom_classes": [],
            "_model_name": "HBoxModel",
            "_view_module": "@jupyter-widgets/controls",
            "_model_module_version": "1.5.0",
            "_view_count": null,
            "_view_module_version": "1.5.0",
            "box_style": "",
            "layout": "IPY_MODEL_535d7f2568014cc7bf4f57de88dd0ab1",
            "_model_module": "@jupyter-widgets/controls",
            "children": [
              "IPY_MODEL_e78ac3a36c5b466d926ded16697719a8",
              "IPY_MODEL_be6e311c1dc54760828c6ef28afcd528",
              "IPY_MODEL_18074de5c26b44be84ec48095cb8e454"
            ]
          }
        },
        "535d7f2568014cc7bf4f57de88dd0ab1": {
          "model_module": "@jupyter-widgets/base",
          "model_name": "LayoutModel",
          "model_module_version": "1.2.0",
          "state": {
            "_view_name": "LayoutView",
            "grid_template_rows": null,
            "right": null,
            "justify_content": null,
            "_view_module": "@jupyter-widgets/base",
            "overflow": null,
            "_model_module_version": "1.2.0",
            "_view_count": null,
            "flex_flow": "row wrap",
            "width": "100%",
            "min_width": null,
            "border": null,
            "align_items": null,
            "bottom": null,
            "_model_module": "@jupyter-widgets/base",
            "top": null,
            "grid_column": null,
            "overflow_y": null,
            "overflow_x": null,
            "grid_auto_flow": null,
            "grid_area": null,
            "grid_template_columns": null,
            "flex": null,
            "_model_name": "LayoutModel",
            "justify_items": null,
            "grid_row": null,
            "max_height": null,
            "align_content": null,
            "visibility": null,
            "align_self": null,
            "height": null,
            "min_height": null,
            "padding": null,
            "grid_auto_rows": null,
            "grid_gap": null,
            "max_width": null,
            "order": null,
            "_view_module_version": "1.2.0",
            "grid_template_areas": null,
            "object_position": null,
            "object_fit": null,
            "grid_auto_columns": null,
            "margin": null,
            "display": "inline-flex",
            "left": null
          }
        },
        "e78ac3a36c5b466d926ded16697719a8": {
          "model_module": "@jupyter-widgets/controls",
          "model_name": "HTMLModel",
          "model_module_version": "1.5.0",
          "state": {
            "_view_name": "HTMLView",
            "style": "IPY_MODEL_c50a6c9586234bf0a9cc461fd5b311e0",
            "_dom_classes": [],
            "description": "",
            "_model_name": "HTMLModel",
            "placeholder": "​",
            "_view_module": "@jupyter-widgets/controls",
            "_model_module_version": "1.5.0",
            "value": "Loss: 0.030 — Avg: 0.034 — GPU Mem: 12430 MB: 100%",
            "_view_count": null,
            "_view_module_version": "1.5.0",
            "description_tooltip": null,
            "_model_module": "@jupyter-widgets/controls",
            "layout": "IPY_MODEL_f1d48189144347e0910175038126bd08"
          }
        },
        "be6e311c1dc54760828c6ef28afcd528": {
          "model_module": "@jupyter-widgets/controls",
          "model_name": "FloatProgressModel",
          "model_module_version": "1.5.0",
          "state": {
            "_view_name": "ProgressView",
            "style": "IPY_MODEL_ec75361a4c004f06844fbbce7a958b8d",
            "_dom_classes": [],
            "description": "",
            "_model_name": "FloatProgressModel",
            "bar_style": "success",
            "max": 500,
            "_view_module": "@jupyter-widgets/controls",
            "_model_module_version": "1.5.0",
            "value": 500,
            "_view_count": null,
            "_view_module_version": "1.5.0",
            "orientation": "horizontal",
            "min": 0,
            "description_tooltip": null,
            "_model_module": "@jupyter-widgets/controls",
            "layout": "IPY_MODEL_a61867ff28dd45f3a1c23a0a67302735"
          }
        },
        "18074de5c26b44be84ec48095cb8e454": {
          "model_module": "@jupyter-widgets/controls",
          "model_name": "HTMLModel",
          "model_module_version": "1.5.0",
          "state": {
            "_view_name": "HTMLView",
            "style": "IPY_MODEL_b3cce6b960a44bf881118634a33e8e68",
            "_dom_classes": [],
            "description": "",
            "_model_name": "HTMLModel",
            "placeholder": "​",
            "_view_module": "@jupyter-widgets/controls",
            "_model_module_version": "1.5.0",
            "value": " 500/500 [05:49&lt;00:00,  1.43it/s]",
            "_view_count": null,
            "_view_module_version": "1.5.0",
            "description_tooltip": null,
            "_model_module": "@jupyter-widgets/controls",
            "layout": "IPY_MODEL_25ea4206e100454085c98939e5e5c128"
          }
        },
        "c50a6c9586234bf0a9cc461fd5b311e0": {
          "model_module": "@jupyter-widgets/controls",
          "model_name": "DescriptionStyleModel",
          "model_module_version": "1.5.0",
          "state": {
            "_view_name": "StyleView",
            "_model_name": "DescriptionStyleModel",
            "description_width": "",
            "_view_module": "@jupyter-widgets/base",
            "_model_module_version": "1.5.0",
            "_view_count": null,
            "_view_module_version": "1.2.0",
            "_model_module": "@jupyter-widgets/controls"
          }
        },
        "f1d48189144347e0910175038126bd08": {
          "model_module": "@jupyter-widgets/base",
          "model_name": "LayoutModel",
          "model_module_version": "1.2.0",
          "state": {
            "_view_name": "LayoutView",
            "grid_template_rows": null,
            "right": null,
            "justify_content": null,
            "_view_module": "@jupyter-widgets/base",
            "overflow": null,
            "_model_module_version": "1.2.0",
            "_view_count": null,
            "flex_flow": null,
            "width": null,
            "min_width": null,
            "border": null,
            "align_items": null,
            "bottom": null,
            "_model_module": "@jupyter-widgets/base",
            "top": null,
            "grid_column": null,
            "overflow_y": null,
            "overflow_x": null,
            "grid_auto_flow": null,
            "grid_area": null,
            "grid_template_columns": null,
            "flex": null,
            "_model_name": "LayoutModel",
            "justify_items": null,
            "grid_row": null,
            "max_height": null,
            "align_content": null,
            "visibility": null,
            "align_self": null,
            "height": null,
            "min_height": null,
            "padding": null,
            "grid_auto_rows": null,
            "grid_gap": null,
            "max_width": null,
            "order": null,
            "_view_module_version": "1.2.0",
            "grid_template_areas": null,
            "object_position": null,
            "object_fit": null,
            "grid_auto_columns": null,
            "margin": null,
            "display": null,
            "left": null
          }
        },
        "ec75361a4c004f06844fbbce7a958b8d": {
          "model_module": "@jupyter-widgets/controls",
          "model_name": "ProgressStyleModel",
          "model_module_version": "1.5.0",
          "state": {
            "_view_name": "StyleView",
            "_model_name": "ProgressStyleModel",
            "description_width": "",
            "_view_module": "@jupyter-widgets/base",
            "_model_module_version": "1.5.0",
            "_view_count": null,
            "_view_module_version": "1.2.0",
            "bar_color": null,
            "_model_module": "@jupyter-widgets/controls"
          }
        },
        "a61867ff28dd45f3a1c23a0a67302735": {
          "model_module": "@jupyter-widgets/base",
          "model_name": "LayoutModel",
          "model_module_version": "1.2.0",
          "state": {
            "_view_name": "LayoutView",
            "grid_template_rows": null,
            "right": null,
            "justify_content": null,
            "_view_module": "@jupyter-widgets/base",
            "overflow": null,
            "_model_module_version": "1.2.0",
            "_view_count": null,
            "flex_flow": null,
            "width": null,
            "min_width": null,
            "border": null,
            "align_items": null,
            "bottom": null,
            "_model_module": "@jupyter-widgets/base",
            "top": null,
            "grid_column": null,
            "overflow_y": null,
            "overflow_x": null,
            "grid_auto_flow": null,
            "grid_area": null,
            "grid_template_columns": null,
            "flex": "2",
            "_model_name": "LayoutModel",
            "justify_items": null,
            "grid_row": null,
            "max_height": null,
            "align_content": null,
            "visibility": null,
            "align_self": null,
            "height": null,
            "min_height": null,
            "padding": null,
            "grid_auto_rows": null,
            "grid_gap": null,
            "max_width": null,
            "order": null,
            "_view_module_version": "1.2.0",
            "grid_template_areas": null,
            "object_position": null,
            "object_fit": null,
            "grid_auto_columns": null,
            "margin": null,
            "display": null,
            "left": null
          }
        },
        "b3cce6b960a44bf881118634a33e8e68": {
          "model_module": "@jupyter-widgets/controls",
          "model_name": "DescriptionStyleModel",
          "model_module_version": "1.5.0",
          "state": {
            "_view_name": "StyleView",
            "_model_name": "DescriptionStyleModel",
            "description_width": "",
            "_view_module": "@jupyter-widgets/base",
            "_model_module_version": "1.5.0",
            "_view_count": null,
            "_view_module_version": "1.2.0",
            "_model_module": "@jupyter-widgets/controls"
          }
        },
        "25ea4206e100454085c98939e5e5c128": {
          "model_module": "@jupyter-widgets/base",
          "model_name": "LayoutModel",
          "model_module_version": "1.2.0",
          "state": {
            "_view_name": "LayoutView",
            "grid_template_rows": null,
            "right": null,
            "justify_content": null,
            "_view_module": "@jupyter-widgets/base",
            "overflow": null,
            "_model_module_version": "1.2.0",
            "_view_count": null,
            "flex_flow": null,
            "width": null,
            "min_width": null,
            "border": null,
            "align_items": null,
            "bottom": null,
            "_model_module": "@jupyter-widgets/base",
            "top": null,
            "grid_column": null,
            "overflow_y": null,
            "overflow_x": null,
            "grid_auto_flow": null,
            "grid_area": null,
            "grid_template_columns": null,
            "flex": null,
            "_model_name": "LayoutModel",
            "justify_items": null,
            "grid_row": null,
            "max_height": null,
            "align_content": null,
            "visibility": null,
            "align_self": null,
            "height": null,
            "min_height": null,
            "padding": null,
            "grid_auto_rows": null,
            "grid_gap": null,
            "max_width": null,
            "order": null,
            "_view_module_version": "1.2.0",
            "grid_template_areas": null,
            "object_position": null,
            "object_fit": null,
            "grid_auto_columns": null,
            "margin": null,
            "display": null,
            "left": null
          }
        }
      }
    }
  },
  "cells": [
    {
      "cell_type": "markdown",
      "metadata": {
        "id": "view-in-github",
        "colab_type": "text"
      },
      "source": [
        "<a href=\"https://colab.research.google.com/github/papayapeter/ghosts-of-data/blob/master/aitextgen_finetune.ipynb\" target=\"_parent\"><img src=\"https://colab.research.google.com/assets/colab-badge.svg\" alt=\"Open In Colab\"/></a>"
      ]
    },
    {
      "cell_type": "markdown",
      "source": [
        "# finetuning gpt-2 for *ghosts of data past (wt)*\n",
        "by [zeno gries](https://zenogries.com)\n",
        "\n",
        "*last updated 2/20/2022*\n",
        "\n",
        "using `aitextgen` ([github repository](https://github.com/minimaxir/aitextgen), [documentation](https://docs.aitextgen.io/))\n",
        "\n"
      ],
      "metadata": {
        "id": "May8-bj4pkE0"
      }
    },
    {
      "cell_type": "markdown",
      "source": [
        "### installing and loading libraries"
      ],
      "metadata": {
        "id": "A2y9xbMbsiWl"
      }
    },
    {
      "cell_type": "code",
      "source": [
        "!pip install -q aitextgen\n",
        "\n",
        "from aitextgen import aitextgen\n",
        "from aitextgen.colab import mount_gdrive, copy_file_from_gdrive"
      ],
      "metadata": {
        "id": "2z5q_hkIst-B"
      },
      "execution_count": 2,
      "outputs": []
    },
    {
      "cell_type": "markdown",
      "source": [
        "### checking for gpu\n",
        "\n",
        "to check if the notebook is connected to a gpu and the amount of vram"
      ],
      "metadata": {
        "id": "WfK7STeXs3sL"
      }
    },
    {
      "cell_type": "code",
      "source": [
        "!nvidia-smi"
      ],
      "metadata": {
        "id": "yYNQIC8Fs_PU",
        "colab": {
          "base_uri": "https://localhost:8080/"
        },
        "outputId": "193be933-1d0e-45ce-e465-0a3672e84a41"
      },
      "execution_count": 3,
      "outputs": [
        {
          "output_type": "stream",
          "name": "stdout",
          "text": [
            "Mon Feb 21 16:51:24 2022       \n",
            "+-----------------------------------------------------------------------------+\n",
            "| NVIDIA-SMI 460.32.03    Driver Version: 460.32.03    CUDA Version: 11.2     |\n",
            "|-------------------------------+----------------------+----------------------+\n",
            "| GPU  Name        Persistence-M| Bus-Id        Disp.A | Volatile Uncorr. ECC |\n",
            "| Fan  Temp  Perf  Pwr:Usage/Cap|         Memory-Usage | GPU-Util  Compute M. |\n",
            "|                               |                      |               MIG M. |\n",
            "|===============================+======================+======================|\n",
            "|   0  Tesla T4            Off  | 00000000:00:04.0 Off |                    0 |\n",
            "| N/A   37C    P8    10W /  70W |      0MiB / 15109MiB |      0%      Default |\n",
            "|                               |                      |                  N/A |\n",
            "+-------------------------------+----------------------+----------------------+\n",
            "                                                                               \n",
            "+-----------------------------------------------------------------------------+\n",
            "| Processes:                                                                  |\n",
            "|  GPU   GI   CI        PID   Type   Process name                  GPU Memory |\n",
            "|        ID   ID                                                   Usage      |\n",
            "|=============================================================================|\n",
            "|  No running processes found                                                 |\n",
            "+-----------------------------------------------------------------------------+\n"
          ]
        }
      ]
    },
    {
      "cell_type": "markdown",
      "source": [
        "### mounting google drive"
      ],
      "metadata": {
        "id": "bynWN6byzu8q"
      }
    },
    {
      "cell_type": "code",
      "source": [
        "mount_gdrive()"
      ],
      "metadata": {
        "id": "Ba2kaNsA0acL",
        "colab": {
          "base_uri": "https://localhost:8080/"
        },
        "outputId": "c435bfc1-9003-4910-f53d-e24398cf9d26"
      },
      "execution_count": 4,
      "outputs": [
        {
          "output_type": "stream",
          "name": "stdout",
          "text": [
            "Mounted at /content/drive\n"
          ]
        }
      ]
    },
    {
      "cell_type": "markdown",
      "source": [
        "### loading the model\n",
        "\n",
        "a choice of models:\n",
        "\n",
        "* english:\n",
        "  * `distilgpt2`: smallest (and probably fastest) gpt2 model with 82m parameters. \n",
        "  * `gpt2`: 124m parameters. standard gpt implementation (there is also `gpt2-medium`, `gpt2-large`, `gpt2-xl`).\n",
        "  * `EleutherAI/gpt-neo-125M` 125m parameters. gpt-neo seems to be newer and better suited for longer texts.\n",
        "* german:\n",
        "  * `dbmdz/german-gpt2`: unknown number of parameters. most popular german model."
      ],
      "metadata": {
        "id": "4kqkmEBMtBFa"
      }
    },
    {
      "cell_type": "code",
      "source": [
        "ai = aitextgen(model='distilgpt2', to_gpu=True)"
      ],
      "metadata": {
        "id": "WK0bvjkxyiCz",
        "colab": {
          "base_uri": "https://localhost:8080/",
          "height": 81,
          "referenced_widgets": [
            "2a580f6ce411432c8cb1d9058c691572",
            "c9aa45efff184c9693664df9fd0fe9a2",
            "2985a50b675c4e30a78339f7e155985b",
            "9ee91568b03046edb9440ebe571a25e1",
            "41ec83765ea0422093ad9c4a2c40ea50",
            "77953f4ca7ee4725889d17d596828d56",
            "81c91b34f7b748ef9c1b397333635400",
            "aa55446410794fa8ae984c5a953189c2",
            "a6b512cb059d4e12a74541735f02055d",
            "8c5334f8a7e54edf9eb8a96c1e315e02",
            "8dbd8873e3a24141b5d1aa3e2cfcfd40",
            "adfaf048f7ed4693b5e7c9bf90e6abe6",
            "176d806421c14cc0ba9160043c07fab8",
            "b2e6da04a79f407bbf29a87f1c14d2f7",
            "c0f00a869a6346eab0530b0dc358f3b3",
            "c6b440fa03c240118817a3a819861d8f",
            "8c6a7273520f48998ddfd0d8d2638b8a",
            "9c23d388497a48e3b292b2207844ac34",
            "8b781c00eecc469a9f392775ab1b05bc",
            "64686a20ba174a3face352c2b2c47b17",
            "5645056551fd4ac19619630256abcec7",
            "a7baaa0a7b374181a2ebdaf4144f699d"
          ]
        },
        "outputId": "34e597b6-4ddc-4517-ac52-9cba167544f5"
      },
      "execution_count": 5,
      "outputs": [
        {
          "output_type": "display_data",
          "data": {
            "application/vnd.jupyter.widget-view+json": {
              "model_id": "2a580f6ce411432c8cb1d9058c691572",
              "version_minor": 0,
              "version_major": 2
            },
            "text/plain": [
              "Downloading:   0%|          | 0.00/762 [00:00<?, ?B/s]"
            ]
          },
          "metadata": {}
        },
        {
          "output_type": "display_data",
          "data": {
            "application/vnd.jupyter.widget-view+json": {
              "model_id": "adfaf048f7ed4693b5e7c9bf90e6abe6",
              "version_minor": 0,
              "version_major": 2
            },
            "text/plain": [
              "Downloading:   0%|          | 0.00/336M [00:00<?, ?B/s]"
            ]
          },
          "metadata": {}
        }
      ]
    },
    {
      "cell_type": "markdown",
      "source": [
        "alternatively, if a model has already been finetuned, but finetuning should continue, you can load it from the google drive."
      ],
      "metadata": {
        "id": "kaJXMXY63MBm"
      }
    },
    {
      "cell_type": "code",
      "source": [
        "from_folder = None\n",
        "\n",
        "for file in [\"pytorch_model.bin\", \"config.json\"]:\n",
        "  copy_file_from_gdrive(file, from_folder)\n",
        "\n",
        "ai = aitextgen(model_folder=\".\", to_gpu=True)"
      ],
      "metadata": {
        "id": "L7yg0wCA3YNS"
      },
      "execution_count": null,
      "outputs": []
    },
    {
      "cell_type": "markdown",
      "source": [
        "### upload a file for training\n",
        "\n",
        "updoad it through the file tab on the left and then set the file path."
      ],
      "metadata": {
        "id": "q_5vWjZO0dBD"
      }
    },
    {
      "cell_type": "code",
      "source": [
        "file_path = \"dataset.txt\""
      ],
      "metadata": {
        "id": "mFWpsN231DLG"
      },
      "execution_count": 6,
      "outputs": []
    },
    {
      "cell_type": "markdown",
      "source": [
        "alternatively (if the dataset is larger than 10mb) updoad it to the google drive first and then copy it over."
      ],
      "metadata": {
        "id": "OWZqyeVP1VeR"
      }
    },
    {
      "cell_type": "code",
      "source": [
        "from_folder = None\n",
        "\n",
        "copy_file_from_gdrive(file_path, from_folder)"
      ],
      "metadata": {
        "id": "9_eaIe331iRN"
      },
      "execution_count": null,
      "outputs": []
    },
    {
      "cell_type": "markdown",
      "source": [
        "### finetune gpt-2\n",
        "\n",
        "the next cell will start the actual finetuning. it runs for `num_steps`.\n",
        "\n",
        "the model will be saved every `save_every` steps in `trained_model` by default, and when training completes. If you mounted your Google Drive, the model will *also* be saved there in a unique folder.\n",
        "\n",
        "the training might time out after 4ish hours; if you did not mount to Google Drive, make sure you end training and save the results so you don't lose them! (if this happens frequently, you may want to consider using [Colab Pro](https://colab.research.google.com/signup))\n",
        "\n",
        "important parameters for `train()`:\n",
        "\n",
        "- **`line_by_line`**: set this to `True` if the input text file is a single-column CSV, with one record per row. aitextgen will automatically process it optimally.\n",
        "- **`from_cache`**: if you compressed your dataset locally (as noted in the previous section) and are using that cache file, set this to `True`.\n",
        "- **`num_steps`**: number of steps to train the model for.\n",
        "- **`generate_every`**: interval of steps to generate example text from the model; good for qualitatively validating training.\n",
        "- **`save_every`**: interval of steps to save the model: the model will be saved in the vm to `/trained_model`.\n",
        "- **`save_gdrive`**: set this to `True` to copy the model to a unique folder in your google drive, if you have mounted it in the earlier cells\n",
        "- **`fp16`**: enables half-precision training for faster/more memory-efficient training. Only works on a t4 or v100 gpu.\n",
        "\n",
        "here are other important parameters for `train()` that are useful but you likely do not need to change.\n",
        "\n",
        "- **`learning_rate`**: learning rate of the model training.\n",
        "- **`batch_size`**: batch size of the model training; setting it too high will cause the gpu to go oom. (if using `fp16`, you can increase the batch size more safely)"
      ],
      "metadata": {
        "id": "4Xc4RJvQ1lCa"
      }
    },
    {
      "cell_type": "code",
      "source": [
        "ai.train(file_path,\n",
        "         line_by_line=False,\n",
        "         from_cache=False,\n",
        "         num_steps=500,\n",
        "         generate_every=100,\n",
        "         save_every=500,\n",
        "         save_gdrive=True,\n",
        "         learning_rate=1e-3,\n",
        "         fp16=False,\n",
        "         batch_size=3)"
      ],
      "metadata": {
        "id": "JV-WR55h1sog",
        "colab": {
          "base_uri": "https://localhost:8080/",
          "height": 1000,
          "referenced_widgets": [
            "28d6011086e64e86bd2bddf22713fc8b",
            "90520343cdb9479798cdb4b34c6a9a00",
            "894c0bcc440241f2999e7c1f238c97f2",
            "f44421e2b0c14bf0965270ee638bec84",
            "2c4fbe4095f944cc85ca86d1c41c95b7",
            "2bacc88752794fe099654df6c629c679",
            "8b14486cc5984bb8946a463bd7a22582",
            "29170b05d80b477cabf97e3ae1acc551",
            "a161a2327e774976b477956c8b31947d",
            "e5a748046dc94a7e892ad75b8b07246d",
            "23bc308e5a104d0dbb4af0d1da7cfbda",
            "a4b95705b0174cf28e50156d5503b90a",
            "535d7f2568014cc7bf4f57de88dd0ab1",
            "e78ac3a36c5b466d926ded16697719a8",
            "be6e311c1dc54760828c6ef28afcd528",
            "18074de5c26b44be84ec48095cb8e454",
            "c50a6c9586234bf0a9cc461fd5b311e0",
            "f1d48189144347e0910175038126bd08",
            "ec75361a4c004f06844fbbce7a958b8d",
            "a61867ff28dd45f3a1c23a0a67302735",
            "b3cce6b960a44bf881118634a33e8e68",
            "25ea4206e100454085c98939e5e5c128"
          ]
        },
        "outputId": "d27b3514-701b-4ed3-9615-0a03c6193ab4"
      },
      "execution_count": 12,
      "outputs": [
        {
          "output_type": "display_data",
          "data": {
            "application/vnd.jupyter.widget-view+json": {
              "model_id": "28d6011086e64e86bd2bddf22713fc8b",
              "version_minor": 0,
              "version_major": 2
            },
            "text/plain": [
              "  0%|          | 0/651 [00:00<?, ?it/s]"
            ]
          },
          "metadata": {}
        },
        {
          "output_type": "stream",
          "name": "stderr",
          "text": [
            "pytorch_model.bin already exists in /trained_model and will be overwritten!\n",
            "/usr/local/lib/python3.7/dist-packages/pytorch_lightning/trainer/connectors/callback_connector.py:148: LightningDeprecationWarning: Setting `Trainer(checkpoint_callback=False)` is deprecated in v1.5 and will be removed in v1.7. Please consider using `Trainer(enable_checkpointing=False)`.\n",
            "  f\"Setting `Trainer(checkpoint_callback={checkpoint_callback})` is deprecated in v1.5 and will \"\n",
            "/usr/local/lib/python3.7/dist-packages/pytorch_lightning/trainer/connectors/callback_connector.py:91: LightningDeprecationWarning: Setting `Trainer(progress_bar_refresh_rate=20)` is deprecated in v1.5 and will be removed in v1.7. Please pass `pytorch_lightning.callbacks.progress.TQDMProgressBar` with `refresh_rate` directly to the Trainer's `callbacks` argument instead. Or, to disable the progress bar pass `enable_progress_bar = False` to the Trainer.\n",
            "  f\"Setting `Trainer(progress_bar_refresh_rate={progress_bar_refresh_rate})` is deprecated in v1.5 and\"\n",
            "/usr/local/lib/python3.7/dist-packages/pytorch_lightning/trainer/connectors/callback_connector.py:168: LightningDeprecationWarning: Setting `Trainer(weights_summary=None)` is deprecated in v1.5 and will be removed in v1.7. Please set `Trainer(enable_model_summary=False)` instead.\n",
            "  \"Setting `Trainer(weights_summary=None)` is deprecated in v1.5 and will be removed\"\n",
            "GPU available: True, used: True\n",
            "TPU available: False, using: 0 TPU cores\n",
            "IPU available: False, using: 0 IPUs\n",
            "LOCAL_RANK: 0 - CUDA_VISIBLE_DEVICES: [0]\n"
          ]
        },
        {
          "output_type": "display_data",
          "data": {
            "application/vnd.jupyter.widget-view+json": {
              "model_id": "a4b95705b0174cf28e50156d5503b90a",
              "version_minor": 0,
              "version_major": 2
            },
            "text/plain": [
              "  0%|          | 0/500 [00:00<?, ?it/s]"
            ]
          },
          "metadata": {}
        },
        {
          "output_type": "stream",
          "name": "stderr",
          "text": [
            "/usr/local/lib/python3.7/dist-packages/pytorch_lightning/trainer/trainer.py:1824: LightningDeprecationWarning: `trainer.progress_bar_dict` is deprecated in v1.5 and will be removed in v1.7. Use `ProgressBarBase.get_metrics` instead.\n",
            "  \"`trainer.progress_bar_dict` is deprecated in v1.5 and will be removed in v1.7.\"\n"
          ]
        },
        {
          "output_type": "stream",
          "name": "stdout",
          "text": [
            "\u001b[1m100 steps reached: generating sample texts.\u001b[0m\n",
            "==========\n",
            "eno\n",
            "\n",
            "Hi Hendrik,\n",
            "Incidentally, what do you think about (ai driven) therapy apps?\n",
            "Zeno\n",
            "\n",
            "\n",
            "Dear Zeno,\n",
            "If I am correct (at least in my doubt), and we were not healthier but just sick in a different way, making help more accessible cannot be a concern but must be an obligation (which refocuses the question back to whether AI is actually the solution here, or potentially exploitative). We now have the theories and technology to help people more readily, sustainably, and accurately. Might as well use it.\n",
            "Best from afar,\n",
            "Hendrik\n",
            "\n",
            "Hi Hendrik,\n",
            "I am sure Derrida has or had (unless he is still with us) quite more to  say on the subject. I don't at the moment. I am however in the lucky  position of not having to explain myself too much. As I said, for me it  is more of a mind game right now.\n",
            "Rgds,\n",
            "Zeno\n",
            "\n",
            "Dear Zeno,\n",
            "The other reason why I do not share the concern of improved healthcare being a rat race is that this argument only looks at the collective level. Even if it was true that our current system was making\n",
            "==========\n",
            "\u001b[1m200 steps reached: generating sample texts.\u001b[0m\n",
            "==========\n",
            "-track.\n",
            "Best from afar,\n",
            "Hendrik\n",
            "\n",
            "\n",
            "Hi Hendrik,\n",
            "do you have a story about identity - I was pretty  young, around 12/13 years old and traveling in Egypt with my parents. In  one hotel I was sleeping in a room separately from my parents. At night  I woke up and saw somebody white (I think a wholly white woman) standing  in the doorway. At first I thought it was my mother in an old relation  of mine. I was afraid to get  up and have a closer look and fell asleep again after  while. I have to  say, for honesty's sake, that I'm pretty short sighted, so it might just  have been a trick of the light, but I didn't think so back then.\n",
            "Zeno\n",
            "\n",
            "\n",
            "\n",
            "Dear Zeno,\n",
            "thank you for your email and apologies for the belated reply. Your message made me think about several of those now-defunct social media accounts, but even more so how those still have reverberations throughout my life to this day. Some friends I made on an online forum for computer games are still around, while I have long stopped playing video games. For a while, more people knew me\n",
            "==========\n",
            "\u001b[1m300 steps reached: generating sample texts.\u001b[0m\n",
            "==========\n",
            " my expectations: I trust them and think it is good to trust people, though often I am being disappointed. And yet, I try my best to still trust them. This backfires every now and then when I entrust someone with a secret; and some of my friends find me naive at times. I would have to go into detail what the difference between trust and ignorance is, as I am no stranger to know that people are, in fact, bad. I guess it is about the wish to allow yourself to remain vulnerable (and trust that this vulnerability is not being exploited), in opposite to allowing others to lie to you. I am not sure if you expected a simpler answer, though. So give me yours - do you believe in something you (or... your peers?) would consider irrational to believe?\n",
            "Best from afar,\n",
            "Hendrik\n",
            "\n",
            "\n",
            "Hi Hendrik,\n",
            "Anyway, of course, I am not sure if you expected a simpler answer, and I apologize if I mischaracterized your view. However, these styles of arguments are not uncommon when people attempt to change a system and I've seen different areas of concern where this is applied to, while always feeling weirdly surprised that the individual suffering is erased in this.\n",
            "Best from\n",
            "==========\n",
            "\u001b[1m400 steps reached: generating sample texts.\u001b[0m\n",
            "==========\n",
            " (to be fair, that is highly unlikely).\n",
            "Zeno\n",
            "\n",
            "\n",
            "Dear Zeno,\n",
            "I have not heard from hauntology before, so I looked  for my old profile online, but I had forgotten the name and the  platform. Who knows, I might have a niche fanbase out there and I  wouldn’t even know about it (to be fair, that is highly unlikely).\n",
            "Zeno\n",
            "\n",
            "\n",
            "Dear Zeno,\n",
            "I hope your move went well, and that my year has started in promising ways with new opportunities and ideas. I'm sure it will.\n",
            "Best from afar,\n",
            "Hendrik\n",
            "\n",
            "\n",
            "Hi Hendrik,\n",
            "my move went well, thank you. It's slowly becoming homely in my new place.\n",
            "Rgds,\n",
            "Zeno\n",
            "\n",
            "\n",
            "Dear Zeno,\n",
            "So, of course, you are right about the things philosophers have to say about beliefs. It is in fact both historically and contemporarily one of the hot topics, as just recently we changed our analysis (or rather, the framing) of what beliefs are and what they do. We more and more believe that we have certain control over what we (sincerely) believe, which makes it a question of\n",
            "==========\n",
            "\u001b[1m500 steps reached: saving model to /trained_model\u001b[0m\n",
            "\u001b[1m500 steps reached: generating sample texts.\u001b[0m\n",
            "==========\n",
            " and party-smile. Thus, most of the pictures people take of me are uncomfortable to me, because I smile without subconsciously accounting for the picture - I always look chubbier, rounder in pictures, with my eyes almost shut from just smiling the way I would smile to convey happiness to others. I do wish more often than not that I had a party smile, tho. Ironically.\n",
            "Best from afar,\n",
            "Hendrik\n",
            "\n",
            "\n",
            "Hi Hendrik,\n",
            "no worries as always! I am glad to hear that you are healthy despite  having been at risk and that you could attend your mothers wedding after  all! These are strange and somewhat exciting times, though not  necessarily in a good table, though. I do feel like almost everybody is getting  the virus now though. I was in France last week and they deal with it in  quite a different way. The cinemas were packed, nobody was wearing an  FFP2 mask and whenever there was a pause between films (I was at a  shortfilm festival I should probably add), I could hear coughing and  people blowing their noses all around me.\n",
            "Rgds,\n",
            "Zeno\n",
            "\n",
            "\n",
            "Dear Zeno,\n",
            "And while I am aware of this\n",
            "==========\n"
          ]
        }
      ]
    },
    {
      "cell_type": "markdown",
      "source": [
        "### test the model\n",
        "\n",
        "testing the model with a custom prompt"
      ],
      "metadata": {
        "id": "eYJxf6ndIIkB"
      }
    },
    {
      "cell_type": "code",
      "source": [
        "prompt = 'Dear Zeno,\\nI don\\'t think'"
      ],
      "metadata": {
        "id": "FBilXJ6AIU-9"
      },
      "execution_count": 13,
      "outputs": []
    },
    {
      "cell_type": "markdown",
      "source": [
        "parameters for generation:\n",
        "\n",
        "* `n`: number of texts generated.\n",
        "* `max_length`: maximum length of the generated text (default: 200; for gpt-2, the maximum is 1024; for gpt neo, the maximum is 2048)\n",
        "* `prompt`: prompt that starts the generated text and is included in the generated text.\n",
        "* `temperature`: controls the \"craziness\" of the text (default: 0.7)\n",
        "* `top_k`: if nonzero, limits the sampled tokens to the top k values. (default: 0)\n",
        "* `top_p`: if nonzero, limits the sampled tokens to the cumulative probability\n",
        "\n",
        "enabling the following parameters may slow down generation.\n",
        "\n",
        "* `num_beams`: if greater than 1, executes beam search for cleaner text.\n",
        "* `repetition_penalty`: if greater than 1.0, penalizes repetition in a text to avoid infinite loops.\n",
        "* `length_penalty`: if greater than 1.0, penalizes text proportional to the length\n",
        "* `no_repeat_ngram_size`: token length to avoid repeating given phrases.\n"
      ],
      "metadata": {
        "id": "DBdBdwb_Ih3W"
      }
    },
    {
      "cell_type": "code",
      "source": [
        "ai.generate_one(prompt=prompt,\n",
        "                max_length=256,\n",
        "                temperature=1.0,\n",
        "                top_p=0.9)"
      ],
      "metadata": {
        "colab": {
          "base_uri": "https://localhost:8080/",
          "height": 105
        },
        "id": "2cOK_6CVJM--",
        "outputId": "e2b286e9-42e2-46da-cbed-c7c730d26588"
      },
      "execution_count": 15,
      "outputs": [
        {
          "output_type": "execute_result",
          "data": {
            "application/vnd.google.colaboratory.intrinsic+json": {
              "type": "string"
            },
            "text/plain": [
              "'Dear Zeno,\\nI don\\'t think you are particularly callous. The frustration comes from the the the fact that psychotherapy had a  huge potential digital presence.  However, many psychologists understood themselves as social media presence  is more intentional, and thereby there are more opportunities to \"create\" a presence that\\'s less authentic. Yet, as you also ask, what even is authenticity? If all my friends were to meet each other at a party, I am not convinced they would recognize the same Hendrik. With some people, I am more witty, political, and earnest. With others, I am more silly. With others yet again, I am softer and understanding, depending on mood, chemistry, and the general vibe.\\nBest from afar,\\nHendrik\\n\\n\\nHi Hendrik,\\nI think it is rather impossible to have an \"authentic\" online presence.  Contrary to how we may phrase it, one cannot \"be\" online, right? The  only thing users can do is leave traces that reference their existence  and those are, like most stories I think, grounded in truth somewhere,  but certainly not \"the truth\".\\nZeno\\n\\n\\nDear Zeno,\\nI don\\'t fake any of these interactions'"
            ]
          },
          "metadata": {},
          "execution_count": 15
        }
      ]
    }
  ]
}